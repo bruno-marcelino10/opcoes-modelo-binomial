{
 "cells": [
  {
   "cell_type": "markdown",
   "metadata": {},
   "source": [
    "# Implementando o modelo binomial para a precificação de opções\n",
    "\n",
    "Aluno: Bruno Marcelino"
   ]
  },
  {
   "cell_type": "markdown",
   "metadata": {},
   "source": [
    "### Importando dados"
   ]
  },
  {
   "cell_type": "code",
   "execution_count": 2,
   "metadata": {},
   "outputs": [],
   "source": [
    "import pandas as pd\n",
    "import numpy as np"
   ]
  },
  {
   "cell_type": "code",
   "execution_count": 3,
   "metadata": {},
   "outputs": [],
   "source": [
    "dados = pd.read_excel(\"dados.xlsx\")\n",
    "dados.drop(0, axis = 0, inplace = True)"
   ]
  },
  {
   "cell_type": "markdown",
   "metadata": {},
   "source": [
    "### Criando variáveis"
   ]
  },
  {
   "cell_type": "code",
   "execution_count": 4,
   "metadata": {},
   "outputs": [
    {
     "data": {
      "text/html": [
       "<div>\n",
       "<style scoped>\n",
       "    .dataframe tbody tr th:only-of-type {\n",
       "        vertical-align: middle;\n",
       "    }\n",
       "\n",
       "    .dataframe tbody tr th {\n",
       "        vertical-align: top;\n",
       "    }\n",
       "\n",
       "    .dataframe thead th {\n",
       "        text-align: right;\n",
       "    }\n",
       "</style>\n",
       "<table border=\"1\" class=\"dataframe\">\n",
       "  <thead>\n",
       "    <tr style=\"text-align: right;\">\n",
       "      <th></th>\n",
       "      <th>Date</th>\n",
       "      <th>BBDC4</th>\n",
       "      <th>R BBDC4</th>\n",
       "      <th>up</th>\n",
       "      <th>q</th>\n",
       "      <th>down</th>\n",
       "      <th>1-q</th>\n",
       "    </tr>\n",
       "  </thead>\n",
       "  <tbody>\n",
       "    <tr>\n",
       "      <th>1</th>\n",
       "      <td>2021-05-01 00:00:00</td>\n",
       "      <td>23.863636</td>\n",
       "      <td>-0.0068</td>\n",
       "      <td>0.0000</td>\n",
       "      <td>0</td>\n",
       "      <td>-0.0068</td>\n",
       "      <td>1</td>\n",
       "    </tr>\n",
       "    <tr>\n",
       "      <th>2</th>\n",
       "      <td>2021-06-01 00:00:00</td>\n",
       "      <td>24.654545</td>\n",
       "      <td>0.0326</td>\n",
       "      <td>0.0326</td>\n",
       "      <td>1</td>\n",
       "      <td>0.0000</td>\n",
       "      <td>0</td>\n",
       "    </tr>\n",
       "    <tr>\n",
       "      <th>3</th>\n",
       "      <td>2021-07-01 00:00:00</td>\n",
       "      <td>25.309090</td>\n",
       "      <td>0.0262</td>\n",
       "      <td>0.0262</td>\n",
       "      <td>1</td>\n",
       "      <td>0.0000</td>\n",
       "      <td>0</td>\n",
       "    </tr>\n",
       "    <tr>\n",
       "      <th>4</th>\n",
       "      <td>2021-08-01 00:00:00</td>\n",
       "      <td>25.090908</td>\n",
       "      <td>-0.0087</td>\n",
       "      <td>0.0000</td>\n",
       "      <td>0</td>\n",
       "      <td>-0.0087</td>\n",
       "      <td>1</td>\n",
       "    </tr>\n",
       "    <tr>\n",
       "      <th>5</th>\n",
       "      <td>2021-11-01 00:00:00</td>\n",
       "      <td>24.645454</td>\n",
       "      <td>-0.0179</td>\n",
       "      <td>0.0000</td>\n",
       "      <td>0</td>\n",
       "      <td>-0.0179</td>\n",
       "      <td>1</td>\n",
       "    </tr>\n",
       "  </tbody>\n",
       "</table>\n",
       "</div>"
      ],
      "text/plain": [
       "                  Date      BBDC4  R BBDC4      up  q    down  1-q\n",
       "1  2021-05-01 00:00:00  23.863636  -0.0068  0.0000  0 -0.0068    1\n",
       "2  2021-06-01 00:00:00  24.654545   0.0326  0.0326  1  0.0000    0\n",
       "3  2021-07-01 00:00:00  25.309090   0.0262  0.0262  1  0.0000    0\n",
       "4  2021-08-01 00:00:00  25.090908  -0.0087  0.0000  0 -0.0087    1\n",
       "5  2021-11-01 00:00:00  24.645454  -0.0179  0.0000  0 -0.0179    1"
      ]
     },
     "execution_count": 4,
     "metadata": {},
     "output_type": "execute_result"
    }
   ],
   "source": [
    "dados[\"up\"] = np.where(dados[\"R BBDC4\"] >= 0, dados[\"R BBDC4\"], 0)\n",
    "dados[\"q\"] = np.where(dados[\"R BBDC4\"] >= 0, 1, 0)\n",
    "dados[\"down\"] = np.where(dados[\"R BBDC4\"] < 0, dados[\"R BBDC4\"], 0)\n",
    "dados[\"1-q\"] = np.where(dados[\"R BBDC4\"] >= 0, 0, 1)\n",
    "\n",
    "q = sum(dados[\"q\"])/len(dados[\"q\"])\n",
    "q_c = 1-q\n",
    "u = dados[dados[\"up\"] != 0].mean()[\"up\"]\n",
    "d = dados[dados[\"down\"] != 0].mean()[\"down\"]\n",
    "\n",
    "dados.head()"
   ]
  },
  {
   "cell_type": "markdown",
   "metadata": {},
   "source": [
    "### Entradas"
   ]
  },
  {
   "cell_type": "code",
   "execution_count": 5,
   "metadata": {},
   "outputs": [],
   "source": [
    "r = 0.0915 # risk-free\n",
    "S = 22.6 # preço atual\n",
    "X = 23.17 # strike da opção\n",
    "dt = 15 # dias úteis até o vencimento"
   ]
  },
  {
   "cell_type": "markdown",
   "metadata": {},
   "source": [
    "### Probabilidades de cada cenário"
   ]
  },
  {
   "cell_type": "code",
   "execution_count": 6,
   "metadata": {},
   "outputs": [],
   "source": [
    "mults, probs = [], []  \n",
    "for i in range(dt+1):\n",
    "    exp_u = i\n",
    "    exp_d = dt-i\n",
    "    \n",
    "    mult = ((1+u)**exp_u)*((1+d)**exp_d)\n",
    "    mults.append(mult)\n",
    "    \n",
    "    prob = ((q)**exp_u)*((q_c)**exp_d)\n",
    "    probs.append(prob)"
   ]
  },
  {
   "cell_type": "code",
   "execution_count": 7,
   "metadata": {},
   "outputs": [],
   "source": [
    "def tri_pascal(n):\n",
    "    linhas = [[1], [1,1]]\n",
    "    for i in range(n-1):\n",
    "        linha_ant = linhas[-1]\n",
    "\n",
    "        linha_nova = [1]\n",
    "        for j in range(i+1):\n",
    "            num = linha_ant[j] + linha_ant[j+1]\n",
    "            linha_nova.append(num)\n",
    "        linha_nova.append(1)   \n",
    "\n",
    "        linhas.append(linha_nova)\n",
    "    return linhas\n",
    "\n",
    "probabilidades = []\n",
    "for i in range(len(probs)):\n",
    "    probabilidades.append(probs[i] * tri_pascal(15)[-1][i])"
   ]
  },
  {
   "cell_type": "markdown",
   "metadata": {},
   "source": [
    "### Esperança para o preço da call"
   ]
  },
  {
   "cell_type": "code",
   "execution_count": 8,
   "metadata": {},
   "outputs": [],
   "source": [
    "precos = [i*S for i in mults]\n",
    "resultado = [X-i for i in precos]\n",
    "precos_calls = [i if i > 0 else 0 for i in resultado]"
   ]
  },
  {
   "cell_type": "markdown",
   "metadata": {},
   "source": [
    "### Valor do prêmio da call hoje"
   ]
  },
  {
   "cell_type": "code",
   "execution_count": 9,
   "metadata": {},
   "outputs": [],
   "source": [
    "C = 0\n",
    "for i in range(len(precos_calls)):\n",
    "    C += precos_calls[i]*probabilidades[i] \n",
    "C = C * np.exp(-r*dt/21)"
   ]
  },
  {
   "cell_type": "code",
   "execution_count": 11,
   "metadata": {},
   "outputs": [
    {
     "name": "stdout",
     "output_type": "stream",
     "text": [
      "Ticker da Opção                BBDCB234\n",
      "Preço Spot do Ativo            R$ 22.60\n",
      "Strike da Opção                R$ 23.17\n",
      "Dias-úteis até o vencimento        15   \n",
      "Taxa Livre de Risco              9.15%\n",
      " \n",
      "Preço Alvo da Opção            R$  0.82\n",
      "Preço Atual da Opção           R$  0.44\n",
      "Resultado Alvo da Operação       87.35% \n"
     ]
    }
   ],
   "source": [
    "print(\"Ticker da Opção\".ljust(30), \"BBDCB234\")\n",
    "print(\"Preço Spot do Ativo\".ljust(30), \"R$ {:2.2f}\".format(S))\n",
    "print(\"Strike da Opção\".ljust(30), \"R$ {:2.2f}\".format(X))\n",
    "print(\"Dias-úteis até o vencimento\".ljust(30), str(dt).center(9))\n",
    "print(\"Taxa Livre de Risco\".ljust(30), \"{:.2%}\\n\".format(r).center(9))\n",
    "\n",
    "print(\"Preço Alvo da Opção\".ljust(30), \"R$ {:5.2f}\".format(C))\n",
    "print(\"Preço Atual da Opção\".ljust(30), \"R$ {:5.2f}\".format(0.44))\n",
    "print(\"Resultado Alvo da Operação\".ljust(30), \"{:.2%}\".format((C/0.44)-1).center(9))"
   ]
  }
 ],
 "metadata": {
  "kernelspec": {
   "display_name": "Python 3 (ipykernel)",
   "language": "python",
   "name": "python3"
  },
  "language_info": {
   "codemirror_mode": {
    "name": "ipython",
    "version": 3
   },
   "file_extension": ".py",
   "mimetype": "text/x-python",
   "name": "python",
   "nbconvert_exporter": "python",
   "pygments_lexer": "ipython3",
   "version": "3.8.5"
  }
 },
 "nbformat": 4,
 "nbformat_minor": 4
}
